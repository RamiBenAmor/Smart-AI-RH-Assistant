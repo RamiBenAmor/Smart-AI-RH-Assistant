{
 "cells": [
  {
   "cell_type": "code",
   "execution_count": null,
   "metadata": {
    "colab": {
     "base_uri": "https://localhost:8080/"
    },
    "id": "4_Nv9pF32b5d",
    "outputId": "a8ffed2c-3265-4526-9d47-628b0bdc3593"
   },
   "outputs": [
    {
     "name": "stdout",
     "output_type": "stream",
     "text": [
      "Collecting PyPDF2\n",
      "  Downloading pypdf2-3.0.1-py3-none-any.whl.metadata (6.8 kB)\n",
      "Downloading pypdf2-3.0.1-py3-none-any.whl (232 kB)\n",
      "\u001b[2K   \u001b[90m━━━━━━━━━━━━━━━━━━━━━━━━━━━━━━━━━━━━━━━━\u001b[0m \u001b[32m232.6/232.6 kB\u001b[0m \u001b[31m3.8 MB/s\u001b[0m eta \u001b[36m0:00:00\u001b[0m\n",
      "\u001b[?25hInstalling collected packages: PyPDF2\n",
      "Successfully installed PyPDF2-3.0.1\n"
     ]
    }
   ],
   "source": [
    "!pip install PyPDF2"
   ]
  },
  {
   "cell_type": "code",
   "execution_count": null,
   "metadata": {
    "id": "-Pt1Bp211JGX"
   },
   "outputs": [],
   "source": [
    "import PyPDF2  # ✅ Attention à la casse : PyPDF2, pas PyPdf2\n",
    "import nltk\n",
    "import re\n",
    "\n",
    "def load_text(filepath):\n",
    "    text = \"\"\n",
    "\n",
    "    # Ouvre le fichier PDF en lecture binaire\n",
    "    with open(filepath, \"rb\") as file:\n",
    "        reader = PyPDF2.PdfReader(file)  # ✅ PdfReader, pas .load\n",
    "\n",
    "        # Itère sur chaque page et ajoute son texte\n",
    "        for page in reader.pages:\n",
    "            text += page.extract_text()\n",
    "\n",
    "    return text\n"
   ]
  },
  {
   "cell_type": "code",
   "execution_count": null,
   "metadata": {
    "colab": {
     "base_uri": "https://localhost:8080/"
    },
    "id": "8bRUMq-UCOFb",
    "outputId": "b2ccb807-272f-40c2-e1bb-5c27f4b71571"
   },
   "outputs": [
    {
     "name": "stderr",
     "output_type": "stream",
     "text": [
      "[nltk_data] Downloading package punkt to /root/nltk_data...\n",
      "[nltk_data]   Unzipping tokenizers/punkt.zip.\n",
      "[nltk_data] Downloading package stopwords to /root/nltk_data...\n",
      "[nltk_data]   Unzipping corpora/stopwords.zip.\n"
     ]
    }
   ],
   "source": [
    "import re\n",
    "import nltk\n",
    "from nltk.corpus import stopwords\n",
    "\n",
    "nltk.download('punkt')\n",
    "nltk.download('stopwords')  # Tu as oublié cette ligne\n",
    "\n",
    "ALLOWED_INSIDE_TOKENS = r'+#\\.\\-/'\n",
    "stop_words = set(stopwords.words('english'))\n",
    "\n",
    "def clean_text(text: str) -> str:\n",
    "    \"\"\"\n",
    "    Nettoyage léger :\n",
    "    - Minuscule\n",
    "    - Garde les chiffres\n",
    "    - Garde les caractères utiles (+ # . - /)\n",
    "    - Supprime le reste de la ponctuation\n",
    "    - Supprime les stopwords\n",
    "    \"\"\"\n",
    "    # 1. Minuscule\n",
    "    text = text.lower()\n",
    "\n",
    "    # 2. Sauts de ligne/tab → espace\n",
    "    text = re.sub(r'[\\r\\n\\t]', ' ', text)\n",
    "\n",
    "    # 3. Supprimer les caractères non autorisés\n",
    "    text = re.sub(fr'[^\\w{ALLOWED_INSIDE_TOKENS}\\s]', ' ', text)\n",
    "\n",
    "    # 4. Tokenisation\n",
    "    tokens = nltk.word_tokenize(text)\n",
    "\n",
    "    # 5. Enlève les mots trop courts (< 2) OU dans stopwords\n",
    "    tokens = [tok for tok in tokens if tok not in stop_words]\n",
    "\n",
    "    return ' '.join(tokens)\n"
   ]
  },
  {
   "cell_type": "code",
   "execution_count": null,
   "metadata": {
    "colab": {
     "base_uri": "https://localhost:8080/"
    },
    "id": "J9KFoN2r7Sd2",
    "outputId": "9e292be8-5520-4dd4-d502-c9a5b556167a"
   },
   "outputs": [
    {
     "name": "stdout",
     "output_type": "stream",
     "text": [
      "search python developer skills python keras flask machine learning\n"
     ]
    }
   ],
   "source": [
    "txt = \"we search for a Python developer with skills in Python, Keras, Flask, and Machine Learning\"\n",
    "print(clean_text(txt))\n"
   ]
  },
  {
   "cell_type": "code",
   "execution_count": null,
   "metadata": {
    "id": "YGg0xIYx7xfh"
   },
   "outputs": [],
   "source": [
    "from sklearn.feature_extraction.text import TfidfVectorizer\n",
    "from sklearn.metrics.pairwise import cosine_similarity\n",
    "\n",
    "def compute_similarity(cv_text, jd_text):\n",
    "    # Nettoyage avancé\n",
    "    cv_clean = clean_text(cv_text)\n",
    "    jd_clean = clean_text(jd_text)\n",
    "\n",
    "    # TF-IDF avec bigrams\n",
    "    vectorizer = TfidfVectorizer(ngram_range=(1, 2), stop_words='english')\n",
    "    vectors = vectorizer.fit_transform([jd_clean, cv_clean])\n",
    "\n",
    "    # Similarité cosinus\n",
    "    score = cosine_similarity(vectors[0], vectors[1])[0][0]\n",
    "\n",
    "    return score\n"
   ]
  },
  {
   "cell_type": "code",
   "execution_count": null,
   "metadata": {
    "colab": {
     "base_uri": "https://localhost:8080/"
    },
    "id": "qPtFEDDz76HN",
    "outputId": "55b29ba0-e365-48f4-9ff6-f469cdc1e8d1"
   },
   "outputs": [
    {
     "name": "stdout",
     "output_type": "stream",
     "text": [
      "Score : 0.3276230465377655\n"
     ]
    }
   ],
   "source": [
    "cv_text = \"python developer with 5 year experience, in Keras and Flask.\"\n",
    "jd_text = \"we search for a Python developer with skills in Python, Keras, Flask, and Machine Learning.\"\n",
    "print(\"Score :\", compute_similarity(cv_text, jd_text))\n"
   ]
  },
  {
   "cell_type": "code",
   "execution_count": null,
   "metadata": {
    "id": "E3RU5t28Glo9"
   },
   "outputs": [],
   "source": [
    "#Low Score of TF-IDF is because it does not understand meaning and only focuses on word frequency. Even if skills match TF-IDF would not recognize synonyms"
   ]
  },
  {
   "cell_type": "code",
   "execution_count": null,
   "metadata": {
    "colab": {
     "base_uri": "https://localhost:8080/"
    },
    "id": "KKCRxfZYGsyC",
    "outputId": "edd53213-cfee-41a6-b1c2-160a5d756391"
   },
   "outputs": [
    {
     "name": "stdout",
     "output_type": "stream",
     "text": [
      "Requirement already satisfied: sentence-transformers in /usr/local/lib/python3.11/dist-packages (4.1.0)\n",
      "Collecting sentence-transformers\n",
      "  Downloading sentence_transformers-5.0.0-py3-none-any.whl.metadata (16 kB)\n",
      "Requirement already satisfied: transformers<5.0.0,>=4.41.0 in /usr/local/lib/python3.11/dist-packages (from sentence-transformers) (4.53.0)\n",
      "Requirement already satisfied: tqdm in /usr/local/lib/python3.11/dist-packages (from sentence-transformers) (4.67.1)\n",
      "Requirement already satisfied: torch>=1.11.0 in /usr/local/lib/python3.11/dist-packages (from sentence-transformers) (2.6.0+cu124)\n",
      "Requirement already satisfied: scikit-learn in /usr/local/lib/python3.11/dist-packages (from sentence-transformers) (1.6.1)\n",
      "Requirement already satisfied: scipy in /usr/local/lib/python3.11/dist-packages (from sentence-transformers) (1.15.3)\n",
      "Requirement already satisfied: huggingface-hub>=0.20.0 in /usr/local/lib/python3.11/dist-packages (from sentence-transformers) (0.33.1)\n",
      "Requirement already satisfied: Pillow in /usr/local/lib/python3.11/dist-packages (from sentence-transformers) (11.2.1)\n",
      "Requirement already satisfied: typing_extensions>=4.5.0 in /usr/local/lib/python3.11/dist-packages (from sentence-transformers) (4.14.0)\n",
      "Requirement already satisfied: filelock in /usr/local/lib/python3.11/dist-packages (from huggingface-hub>=0.20.0->sentence-transformers) (3.18.0)\n",
      "Requirement already satisfied: fsspec>=2023.5.0 in /usr/local/lib/python3.11/dist-packages (from huggingface-hub>=0.20.0->sentence-transformers) (2025.3.2)\n",
      "Requirement already satisfied: packaging>=20.9 in /usr/local/lib/python3.11/dist-packages (from huggingface-hub>=0.20.0->sentence-transformers) (24.2)\n",
      "Requirement already satisfied: pyyaml>=5.1 in /usr/local/lib/python3.11/dist-packages (from huggingface-hub>=0.20.0->sentence-transformers) (6.0.2)\n",
      "Requirement already satisfied: requests in /usr/local/lib/python3.11/dist-packages (from huggingface-hub>=0.20.0->sentence-transformers) (2.32.3)\n",
      "Requirement already satisfied: hf-xet<2.0.0,>=1.1.2 in /usr/local/lib/python3.11/dist-packages (from huggingface-hub>=0.20.0->sentence-transformers) (1.1.5)\n",
      "Requirement already satisfied: networkx in /usr/local/lib/python3.11/dist-packages (from torch>=1.11.0->sentence-transformers) (3.5)\n",
      "Requirement already satisfied: jinja2 in /usr/local/lib/python3.11/dist-packages (from torch>=1.11.0->sentence-transformers) (3.1.6)\n",
      "Collecting nvidia-cuda-nvrtc-cu12==12.4.127 (from torch>=1.11.0->sentence-transformers)\n",
      "  Downloading nvidia_cuda_nvrtc_cu12-12.4.127-py3-none-manylinux2014_x86_64.whl.metadata (1.5 kB)\n",
      "Collecting nvidia-cuda-runtime-cu12==12.4.127 (from torch>=1.11.0->sentence-transformers)\n",
      "  Downloading nvidia_cuda_runtime_cu12-12.4.127-py3-none-manylinux2014_x86_64.whl.metadata (1.5 kB)\n",
      "Collecting nvidia-cuda-cupti-cu12==12.4.127 (from torch>=1.11.0->sentence-transformers)\n",
      "  Downloading nvidia_cuda_cupti_cu12-12.4.127-py3-none-manylinux2014_x86_64.whl.metadata (1.6 kB)\n",
      "Collecting nvidia-cudnn-cu12==9.1.0.70 (from torch>=1.11.0->sentence-transformers)\n",
      "  Downloading nvidia_cudnn_cu12-9.1.0.70-py3-none-manylinux2014_x86_64.whl.metadata (1.6 kB)\n",
      "Collecting nvidia-cublas-cu12==12.4.5.8 (from torch>=1.11.0->sentence-transformers)\n",
      "  Downloading nvidia_cublas_cu12-12.4.5.8-py3-none-manylinux2014_x86_64.whl.metadata (1.5 kB)\n",
      "Collecting nvidia-cufft-cu12==11.2.1.3 (from torch>=1.11.0->sentence-transformers)\n",
      "  Downloading nvidia_cufft_cu12-11.2.1.3-py3-none-manylinux2014_x86_64.whl.metadata (1.5 kB)\n",
      "Collecting nvidia-curand-cu12==10.3.5.147 (from torch>=1.11.0->sentence-transformers)\n",
      "  Downloading nvidia_curand_cu12-10.3.5.147-py3-none-manylinux2014_x86_64.whl.metadata (1.5 kB)\n",
      "Collecting nvidia-cusolver-cu12==11.6.1.9 (from torch>=1.11.0->sentence-transformers)\n",
      "  Downloading nvidia_cusolver_cu12-11.6.1.9-py3-none-manylinux2014_x86_64.whl.metadata (1.6 kB)\n",
      "Collecting nvidia-cusparse-cu12==12.3.1.170 (from torch>=1.11.0->sentence-transformers)\n",
      "  Downloading nvidia_cusparse_cu12-12.3.1.170-py3-none-manylinux2014_x86_64.whl.metadata (1.6 kB)\n",
      "Requirement already satisfied: nvidia-cusparselt-cu12==0.6.2 in /usr/local/lib/python3.11/dist-packages (from torch>=1.11.0->sentence-transformers) (0.6.2)\n",
      "Requirement already satisfied: nvidia-nccl-cu12==2.21.5 in /usr/local/lib/python3.11/dist-packages (from torch>=1.11.0->sentence-transformers) (2.21.5)\n",
      "Requirement already satisfied: nvidia-nvtx-cu12==12.4.127 in /usr/local/lib/python3.11/dist-packages (from torch>=1.11.0->sentence-transformers) (12.4.127)\n",
      "Collecting nvidia-nvjitlink-cu12==12.4.127 (from torch>=1.11.0->sentence-transformers)\n",
      "  Downloading nvidia_nvjitlink_cu12-12.4.127-py3-none-manylinux2014_x86_64.whl.metadata (1.5 kB)\n",
      "Requirement already satisfied: triton==3.2.0 in /usr/local/lib/python3.11/dist-packages (from torch>=1.11.0->sentence-transformers) (3.2.0)\n",
      "Requirement already satisfied: sympy==1.13.1 in /usr/local/lib/python3.11/dist-packages (from torch>=1.11.0->sentence-transformers) (1.13.1)\n",
      "Requirement already satisfied: mpmath<1.4,>=1.1.0 in /usr/local/lib/python3.11/dist-packages (from sympy==1.13.1->torch>=1.11.0->sentence-transformers) (1.3.0)\n",
      "Requirement already satisfied: numpy>=1.17 in /usr/local/lib/python3.11/dist-packages (from transformers<5.0.0,>=4.41.0->sentence-transformers) (2.0.2)\n",
      "Requirement already satisfied: regex!=2019.12.17 in /usr/local/lib/python3.11/dist-packages (from transformers<5.0.0,>=4.41.0->sentence-transformers) (2024.11.6)\n",
      "Requirement already satisfied: tokenizers<0.22,>=0.21 in /usr/local/lib/python3.11/dist-packages (from transformers<5.0.0,>=4.41.0->sentence-transformers) (0.21.2)\n",
      "Requirement already satisfied: safetensors>=0.4.3 in /usr/local/lib/python3.11/dist-packages (from transformers<5.0.0,>=4.41.0->sentence-transformers) (0.5.3)\n",
      "Requirement already satisfied: joblib>=1.2.0 in /usr/local/lib/python3.11/dist-packages (from scikit-learn->sentence-transformers) (1.5.1)\n",
      "Requirement already satisfied: threadpoolctl>=3.1.0 in /usr/local/lib/python3.11/dist-packages (from scikit-learn->sentence-transformers) (3.6.0)\n",
      "Requirement already satisfied: MarkupSafe>=2.0 in /usr/local/lib/python3.11/dist-packages (from jinja2->torch>=1.11.0->sentence-transformers) (3.0.2)\n",
      "Requirement already satisfied: charset-normalizer<4,>=2 in /usr/local/lib/python3.11/dist-packages (from requests->huggingface-hub>=0.20.0->sentence-transformers) (3.4.2)\n",
      "Requirement already satisfied: idna<4,>=2.5 in /usr/local/lib/python3.11/dist-packages (from requests->huggingface-hub>=0.20.0->sentence-transformers) (3.10)\n",
      "Requirement already satisfied: urllib3<3,>=1.21.1 in /usr/local/lib/python3.11/dist-packages (from requests->huggingface-hub>=0.20.0->sentence-transformers) (2.4.0)\n",
      "Requirement already satisfied: certifi>=2017.4.17 in /usr/local/lib/python3.11/dist-packages (from requests->huggingface-hub>=0.20.0->sentence-transformers) (2025.6.15)\n",
      "Downloading sentence_transformers-5.0.0-py3-none-any.whl (470 kB)\n",
      "\u001b[2K   \u001b[90m━━━━━━━━━━━━━━━━━━━━━━━━━━━━━━━━━━━━━━━━\u001b[0m \u001b[32m470.2/470.2 kB\u001b[0m \u001b[31m8.9 MB/s\u001b[0m eta \u001b[36m0:00:00\u001b[0m\n",
      "\u001b[?25hDownloading nvidia_cublas_cu12-12.4.5.8-py3-none-manylinux2014_x86_64.whl (363.4 MB)\n",
      "\u001b[2K   \u001b[90m━━━━━━━━━━━━━━━━━━━━━━━━━━━━━━━━━━━━━━━━\u001b[0m \u001b[32m363.4/363.4 MB\u001b[0m \u001b[31m4.3 MB/s\u001b[0m eta \u001b[36m0:00:00\u001b[0m\n",
      "\u001b[?25hDownloading nvidia_cuda_cupti_cu12-12.4.127-py3-none-manylinux2014_x86_64.whl (13.8 MB)\n",
      "\u001b[2K   \u001b[90m━━━━━━━━━━━━━━━━━━━━━━━━━━━━━━━━━━━━━━━━\u001b[0m \u001b[32m13.8/13.8 MB\u001b[0m \u001b[31m25.3 MB/s\u001b[0m eta \u001b[36m0:00:00\u001b[0m\n",
      "\u001b[?25hDownloading nvidia_cuda_nvrtc_cu12-12.4.127-py3-none-manylinux2014_x86_64.whl (24.6 MB)\n",
      "\u001b[2K   \u001b[90m━━━━━━━━━━━━━━━━━━━━━━━━━━━━━━━━━━━━━━━━\u001b[0m \u001b[32m24.6/24.6 MB\u001b[0m \u001b[31m16.7 MB/s\u001b[0m eta \u001b[36m0:00:00\u001b[0m\n",
      "\u001b[?25hDownloading nvidia_cuda_runtime_cu12-12.4.127-py3-none-manylinux2014_x86_64.whl (883 kB)\n",
      "\u001b[2K   \u001b[90m━━━━━━━━━━━━━━━━━━━━━━━━━━━━━━━━━━━━━━━━\u001b[0m \u001b[32m883.7/883.7 kB\u001b[0m \u001b[31m12.7 MB/s\u001b[0m eta \u001b[36m0:00:00\u001b[0m\n",
      "\u001b[?25hDownloading nvidia_cudnn_cu12-9.1.0.70-py3-none-manylinux2014_x86_64.whl (664.8 MB)\n",
      "\u001b[2K   \u001b[90m━━━━━━━━━━━━━━━━━━━━━━━━━━━━━━━━━━━━━━━━\u001b[0m \u001b[32m664.8/664.8 MB\u001b[0m \u001b[31m1.3 MB/s\u001b[0m eta \u001b[36m0:00:00\u001b[0m\n",
      "\u001b[?25hDownloading nvidia_cufft_cu12-11.2.1.3-py3-none-manylinux2014_x86_64.whl (211.5 MB)\n",
      "\u001b[2K   \u001b[90m━━━━━━━━━━━━━━━━━━━━━━━━━━━━━━━━━━━━━━━━\u001b[0m \u001b[32m211.5/211.5 MB\u001b[0m \u001b[31m4.6 MB/s\u001b[0m eta \u001b[36m0:00:00\u001b[0m\n",
      "\u001b[?25hDownloading nvidia_curand_cu12-10.3.5.147-py3-none-manylinux2014_x86_64.whl (56.3 MB)\n",
      "\u001b[2K   \u001b[90m━━━━━━━━━━━━━━━━━━━━━━━━━━━━━━━━━━━━━━━━\u001b[0m \u001b[32m56.3/56.3 MB\u001b[0m \u001b[31m11.8 MB/s\u001b[0m eta \u001b[36m0:00:00\u001b[0m\n",
      "\u001b[?25hDownloading nvidia_cusolver_cu12-11.6.1.9-py3-none-manylinux2014_x86_64.whl (127.9 MB)\n",
      "\u001b[2K   \u001b[90m━━━━━━━━━━━━━━━━━━━━━━━━━━━━━━━━━━━━━━━━\u001b[0m \u001b[32m127.9/127.9 MB\u001b[0m \u001b[31m7.5 MB/s\u001b[0m eta \u001b[36m0:00:00\u001b[0m\n",
      "\u001b[?25hDownloading nvidia_cusparse_cu12-12.3.1.170-py3-none-manylinux2014_x86_64.whl (207.5 MB)\n",
      "\u001b[2K   \u001b[90m━━━━━━━━━━━━━━━━━━━━━━━━━━━━━━━━━━━━━━━━\u001b[0m \u001b[32m207.5/207.5 MB\u001b[0m \u001b[31m5.1 MB/s\u001b[0m eta \u001b[36m0:00:00\u001b[0m\n",
      "\u001b[?25hDownloading nvidia_nvjitlink_cu12-12.4.127-py3-none-manylinux2014_x86_64.whl (21.1 MB)\n",
      "\u001b[2K   \u001b[90m━━━━━━━━━━━━━━━━━━━━━━━━━━━━━━━━━━━━━━━━\u001b[0m \u001b[32m21.1/21.1 MB\u001b[0m \u001b[31m66.5 MB/s\u001b[0m eta \u001b[36m0:00:00\u001b[0m\n",
      "\u001b[?25hInstalling collected packages: nvidia-nvjitlink-cu12, nvidia-curand-cu12, nvidia-cufft-cu12, nvidia-cuda-runtime-cu12, nvidia-cuda-nvrtc-cu12, nvidia-cuda-cupti-cu12, nvidia-cublas-cu12, nvidia-cusparse-cu12, nvidia-cudnn-cu12, nvidia-cusolver-cu12, sentence-transformers\n",
      "  Attempting uninstall: nvidia-nvjitlink-cu12\n",
      "    Found existing installation: nvidia-nvjitlink-cu12 12.5.82\n",
      "    Uninstalling nvidia-nvjitlink-cu12-12.5.82:\n",
      "      Successfully uninstalled nvidia-nvjitlink-cu12-12.5.82\n",
      "  Attempting uninstall: nvidia-curand-cu12\n",
      "    Found existing installation: nvidia-curand-cu12 10.3.6.82\n",
      "    Uninstalling nvidia-curand-cu12-10.3.6.82:\n",
      "      Successfully uninstalled nvidia-curand-cu12-10.3.6.82\n",
      "  Attempting uninstall: nvidia-cufft-cu12\n",
      "    Found existing installation: nvidia-cufft-cu12 11.2.3.61\n",
      "    Uninstalling nvidia-cufft-cu12-11.2.3.61:\n",
      "      Successfully uninstalled nvidia-cufft-cu12-11.2.3.61\n",
      "  Attempting uninstall: nvidia-cuda-runtime-cu12\n",
      "    Found existing installation: nvidia-cuda-runtime-cu12 12.5.82\n",
      "    Uninstalling nvidia-cuda-runtime-cu12-12.5.82:\n",
      "      Successfully uninstalled nvidia-cuda-runtime-cu12-12.5.82\n",
      "  Attempting uninstall: nvidia-cuda-nvrtc-cu12\n",
      "    Found existing installation: nvidia-cuda-nvrtc-cu12 12.5.82\n",
      "    Uninstalling nvidia-cuda-nvrtc-cu12-12.5.82:\n",
      "      Successfully uninstalled nvidia-cuda-nvrtc-cu12-12.5.82\n",
      "  Attempting uninstall: nvidia-cuda-cupti-cu12\n",
      "    Found existing installation: nvidia-cuda-cupti-cu12 12.5.82\n",
      "    Uninstalling nvidia-cuda-cupti-cu12-12.5.82:\n",
      "      Successfully uninstalled nvidia-cuda-cupti-cu12-12.5.82\n",
      "  Attempting uninstall: nvidia-cublas-cu12\n",
      "    Found existing installation: nvidia-cublas-cu12 12.5.3.2\n",
      "    Uninstalling nvidia-cublas-cu12-12.5.3.2:\n",
      "      Successfully uninstalled nvidia-cublas-cu12-12.5.3.2\n",
      "  Attempting uninstall: nvidia-cusparse-cu12\n",
      "    Found existing installation: nvidia-cusparse-cu12 12.5.1.3\n",
      "    Uninstalling nvidia-cusparse-cu12-12.5.1.3:\n",
      "      Successfully uninstalled nvidia-cusparse-cu12-12.5.1.3\n",
      "  Attempting uninstall: nvidia-cudnn-cu12\n",
      "    Found existing installation: nvidia-cudnn-cu12 9.3.0.75\n",
      "    Uninstalling nvidia-cudnn-cu12-9.3.0.75:\n",
      "      Successfully uninstalled nvidia-cudnn-cu12-9.3.0.75\n",
      "  Attempting uninstall: nvidia-cusolver-cu12\n",
      "    Found existing installation: nvidia-cusolver-cu12 11.6.3.83\n",
      "    Uninstalling nvidia-cusolver-cu12-11.6.3.83:\n",
      "      Successfully uninstalled nvidia-cusolver-cu12-11.6.3.83\n",
      "  Attempting uninstall: sentence-transformers\n",
      "    Found existing installation: sentence-transformers 4.1.0\n",
      "    Uninstalling sentence-transformers-4.1.0:\n",
      "      Successfully uninstalled sentence-transformers-4.1.0\n",
      "Successfully installed nvidia-cublas-cu12-12.4.5.8 nvidia-cuda-cupti-cu12-12.4.127 nvidia-cuda-nvrtc-cu12-12.4.127 nvidia-cuda-runtime-cu12-12.4.127 nvidia-cudnn-cu12-9.1.0.70 nvidia-cufft-cu12-11.2.1.3 nvidia-curand-cu12-10.3.5.147 nvidia-cusolver-cu12-11.6.1.9 nvidia-cusparse-cu12-12.3.1.170 nvidia-nvjitlink-cu12-12.4.127 sentence-transformers-5.0.0\n"
     ]
    }
   ],
   "source": [
    "!pip install -U sentence-transformers\n"
   ]
  },
  {
   "cell_type": "code",
   "execution_count": null,
   "metadata": {
    "id": "1QLc8uYcHBPN"
   },
   "outputs": [],
   "source": [
    "from sentence_transformers import SentenceTransformer, util\n",
    "def compute_sbert_similarity(cv_text, jd_text):\n",
    "    model = SentenceTransformer('all-MiniLM-L6-v2')\n",
    "    resume_embeddings = model.encode(cv_text, convert_to_tensor=True)\n",
    "    jd_embedding = model.encode(jd_text, convert_to_tensor=True)\n",
    "\n",
    "    similarity_scores = util.pytorch_cos_sim(resume_embeddings, jd_embedding)\n",
    "    return similarity_scores.flatten().tolist()[0]"
   ]
  },
  {
   "cell_type": "code",
   "execution_count": null,
   "metadata": {
    "id": "8ZB1FZy4Kcvq"
   },
   "outputs": [],
   "source": [
    "#util.pytorch_cos_sim is a function from the sentence-transformers library that computes cosine similarity between batches of PyTorch tensors, often embeddings from models like SBERT.\n",
    "# It supports GPU acceleration, making it efficient for deep learning workflows involving large batches of vector comparisons.\n",
    "# In contrast, cosine_similarity from scikit-learn operates on NumPy arrays and runs on the CPU only.\n",
    "# It is typically used in classical machine learning tasks with smaller datasets or feature vectors.\n",
    "# Both functions return a similarity matrix between two sets of vectors, but pytorch_cos_sim is optimized for PyTorch environments and GPU usage, while cosine_similarity is more general-purpose and CPU-based"
   ]
  },
  {
   "cell_type": "code",
   "execution_count": null,
   "metadata": {
    "colab": {
     "base_uri": "https://localhost:8080/",
     "height": 490,
     "referenced_widgets": [
      "b0b98a3c18b74a148eba43de03c86644",
      "baab650afd7a47c7adc92aa70d4faa79",
      "02a0660e7cc24e5490ed35de8b626627",
      "df0e2adec6e7472b8b783d1e995da2da",
      "91c30e47c48f4ba484f98cf4a6496f80",
      "10caf7c398eb4aa0aebfe56e85073ee4",
      "2bb266e9135a4bd987968b47258ca4ad",
      "cbc13f497b334c9595c9385f2e04c547",
      "ea46005edc294057b46c04e8618fad9a",
      "c5234598d949450080b4915b6c74f5c6",
      "b345cb966de0420eaf4269cb63132fc9",
      "393be92ae07e4acf808484f58d98f6bc",
      "b7af3048e4164cc7b7b3fc1730a306b3",
      "bce61441e6294a4eb81644954f8a1515",
      "fa144821bc3e4719b6a19cec4a8572b9",
      "ee027f085cb3439c82103ca45b09078a",
      "90cde3bdee3c45549f39e3dbeb794097",
      "6de501c0f36b453da05e0e9c046be990",
      "812fbe70ddc643bda23088c6b8f0a9a7",
      "245e36c150f648959f495882f84b686a",
      "219760e5929142da92ca7143c4a16e14",
      "e2b5918267534909863bfcd85d89695e",
      "d277e3487d744ade83c02d3b03458142",
      "4bc8046cecfd415590606654312137d0",
      "51af13c377de44fb8f518fbd96c71883",
      "59b456a75a6e4753abd516bb5eea5f23",
      "4751018d2bac484b8eb86b103451c3f1",
      "fd4fc0900d754d6283baa9599ab48db6",
      "64a610ccdd3d4f00a6edb943b51b553a",
      "5433ddceec834852ba34b4f47c0ee283",
      "49e2160de43d4f609ff9dc5a96819f8c",
      "853059ca40704700a10b1ad98faf7441",
      "1a6e9b5b7490410bad1719a73f1e1d94",
      "6c1f82a9a2c14138959563898549b1b1",
      "5a5ce165658e462b84586da33a4f2319",
      "44a7c28ae9a0485cb7012919cb3ee34a",
      "62ea4f3b770b4d769630a6d4c51422a7",
      "736e90785cb642ac98de46d90c84a5a8",
      "bfe1b8c7b6ea40b58dc7ee67a4237da8",
      "f9f47a025c1d46cdbdbb044a8a0ccfc3",
      "0622b5b04a4646fbbcdbfca09bfa93e0",
      "cf3b2691ccd949b487e195e062022c5b",
      "49693b90f5b94e82abb52e74967d3d6e",
      "0dd281d386ec444dbbded1633b21ce46",
      "b6f4ce8e9bcf44a9bc19f2e7de9b6d06",
      "627e2bf3f7d84f188983e1334d40884e",
      "fbb2164598b74fac85e53cf2997c5d3c",
      "0e66abb8e18b4dbb9190b334cbc16766",
      "63091efabcef4eb384f4e6b61e701954",
      "d8fda95ce2a04f22a08fb3da1f72c97c",
      "bfb16edcffe543ca9407611c45e5b868",
      "c031cc5ae66c4b79b7855f6bf2c4a8eb",
      "4705e152e8d744a0a7ad037151b89934",
      "6a3a3f316b61475584fb9ce5fa48cbb6",
      "6ca8e6689fab4464a14796d3e40c1427",
      "4daa96d3d21b4aea8b27969d93502eba",
      "b43fe1495f124735b1cb560d8aae1451",
      "41e47b4bfdb8401f82b74d1626a0a3e8",
      "0625bb37e79f49dfae120e8e6cff3ec8",
      "32652229281a456eae447d55cc583a2a",
      "d40c5e57b2524d5fa6c3a5275d58d63f",
      "ad9f082253b44e0d8463599b8ac38254",
      "e595bd7cb3dc4ae0b932d5c836233953",
      "9c033bf3f5b4446895a58936660f0fa4",
      "0d3453fe261f4518ab28d9f9ab31540c",
      "374af0cbe4d74877be38721ade921e63",
      "131d61da47294062a34244288b4dd2d9",
      "3a958db7adb840fe8e75756a3b1329dc",
      "e2fc0a842c9746ad864e7a0a87db7c72",
      "620579b548ff4c37bb82f81f93ab6fcf",
      "0b135f1470c6463da1dc4dc5d1d3197d",
      "5e772e6338dd4f598d472b0878c43cc3",
      "b793629bfd144cc8b666ad44f4f646f3",
      "1ba1d4ca50f449ec94ca8128c896aefc",
      "a58df4084fcf4d828030815c190aa1c1",
      "2ffb86bb99d74f4ab83bd7207f87ff7a",
      "be0e51bbcdea4becad9bb7feb9cba141",
      "3db19694336f422caa2acf029a07aad0",
      "b1a1f241f4b84c4e8a9b9c3f617d7928",
      "6a332550920940f4a27b901a9f008cc4",
      "9e4e44edd5804a318c448c936eab665d",
      "e0b1cbb1b0d64baca7b07d0b2a1fcd54",
      "dc9ada56aded40e6853f248b3335b50c",
      "a6f229cb3aa34c72acc57f8f91d96277",
      "bb549c2134574cacb19d7df1a536c49f",
      "518d51e15fbc4f90ad0673d536e90c53",
      "319cc4ba7d0d447c852f4451a64ce747",
      "5a7bae3a35d14dd9ab2690bb4834794b",
      "0dee7d87f5174da494b770a75d28f599",
      "0b4ea034a0c54991af5a16eff275cd41",
      "43f13d28a7a94b8fade7c38d010990d6",
      "0fc8847c95b84fec917cb24b4f48c62c",
      "c3f507cbb93e48b391d056ff19008e87",
      "0725ded592ff4c27bbae60d5170f1cc4",
      "5f7c7a1fb5dc43e49a19346d1fe71541",
      "902b2a762f674e909205565a8a4a01a2",
      "bbad0146c96c46eaa33cb07b624b1417",
      "5053bc581dcd4384a21ff33f2b05ca69",
      "5f4ebc0b14074d05b92ae357466018a7",
      "7931f7454f7b493287f57c4737486f95",
      "2203602a88034a91a70fae8791ef8a27",
      "0ecf0d6ee4fe4ec39ef9f24f84145f2a",
      "8dfaaa50017b4cb396574a66dadbfa8a",
      "f445ae55a67442068e6a26d48687f885",
      "04bdc0c44edf46e3b50b15299fbba66f",
      "21b4f67c7dbb4be19d82ec9355cf6e38",
      "27e6f86a00114d10a71884410204e0cc",
      "fabbabbd5ee847c9be04d1661adf71c9",
      "3e36f0f5917a47a69a723708daa808ab",
      "818417f882c14bea8c6f48e198eceb7d",
      "0a92184c9b464625906fce82ef3b9926",
      "e1772f6243a84dac89d5b3c84a276688",
      "2e650ea040ce4e5abd0492a50bbfbb3a",
      "9ed5e6308be64f76927952d7387249ee",
      "5de043e88e324151aa9bb6e220542121",
      "9b09173b843e44ccb1270a6b6040004a",
      "964371a5441c4f35853307a0e4972724",
      "caa1818f76bc4e7cbca2bdc762e1c281",
      "3be9951bed6e4b5e82b5fd3a97292e2b",
      "221ecce38d5e432f9240c8a3bbf28a9f",
      "3795ed7ca4b444feb414f15a9ff07574"
     ]
    },
    "id": "0lR7Sp3KHGY9",
    "outputId": "a795408e-c31c-4d2d-d9eb-51c76824f64b"
   },
   "outputs": [
    {
     "name": "stderr",
     "output_type": "stream",
     "text": [
      "/usr/local/lib/python3.11/dist-packages/huggingface_hub/utils/_auth.py:94: UserWarning: \n",
      "The secret `HF_TOKEN` does not exist in your Colab secrets.\n",
      "To authenticate with the Hugging Face Hub, create a token in your settings tab (https://huggingface.co/settings/tokens), set it as secret in your Google Colab and restart your session.\n",
      "You will be able to reuse this secret in all of your notebooks.\n",
      "Please note that authentication is recommended but still optional to access public models or datasets.\n",
      "  warnings.warn(\n"
     ]
    },
    {
     "data": {
      "application/vnd.jupyter.widget-view+json": {
       "model_id": "b0b98a3c18b74a148eba43de03c86644",
       "version_major": 2,
       "version_minor": 0
      },
      "text/plain": [
       "modules.json:   0%|          | 0.00/349 [00:00<?, ?B/s]"
      ]
     },
     "metadata": {},
     "output_type": "display_data"
    },
    {
     "data": {
      "application/vnd.jupyter.widget-view+json": {
       "model_id": "393be92ae07e4acf808484f58d98f6bc",
       "version_major": 2,
       "version_minor": 0
      },
      "text/plain": [
       "config_sentence_transformers.json:   0%|          | 0.00/116 [00:00<?, ?B/s]"
      ]
     },
     "metadata": {},
     "output_type": "display_data"
    },
    {
     "data": {
      "application/vnd.jupyter.widget-view+json": {
       "model_id": "d277e3487d744ade83c02d3b03458142",
       "version_major": 2,
       "version_minor": 0
      },
      "text/plain": [
       "README.md: 0.00B [00:00, ?B/s]"
      ]
     },
     "metadata": {},
     "output_type": "display_data"
    },
    {
     "data": {
      "application/vnd.jupyter.widget-view+json": {
       "model_id": "6c1f82a9a2c14138959563898549b1b1",
       "version_major": 2,
       "version_minor": 0
      },
      "text/plain": [
       "sentence_bert_config.json:   0%|          | 0.00/53.0 [00:00<?, ?B/s]"
      ]
     },
     "metadata": {},
     "output_type": "display_data"
    },
    {
     "data": {
      "application/vnd.jupyter.widget-view+json": {
       "model_id": "b6f4ce8e9bcf44a9bc19f2e7de9b6d06",
       "version_major": 2,
       "version_minor": 0
      },
      "text/plain": [
       "config.json:   0%|          | 0.00/612 [00:00<?, ?B/s]"
      ]
     },
     "metadata": {},
     "output_type": "display_data"
    },
    {
     "data": {
      "application/vnd.jupyter.widget-view+json": {
       "model_id": "4daa96d3d21b4aea8b27969d93502eba",
       "version_major": 2,
       "version_minor": 0
      },
      "text/plain": [
       "model.safetensors:   0%|          | 0.00/90.9M [00:00<?, ?B/s]"
      ]
     },
     "metadata": {},
     "output_type": "display_data"
    },
    {
     "data": {
      "application/vnd.jupyter.widget-view+json": {
       "model_id": "131d61da47294062a34244288b4dd2d9",
       "version_major": 2,
       "version_minor": 0
      },
      "text/plain": [
       "tokenizer_config.json:   0%|          | 0.00/350 [00:00<?, ?B/s]"
      ]
     },
     "metadata": {},
     "output_type": "display_data"
    },
    {
     "data": {
      "application/vnd.jupyter.widget-view+json": {
       "model_id": "3db19694336f422caa2acf029a07aad0",
       "version_major": 2,
       "version_minor": 0
      },
      "text/plain": [
       "vocab.txt: 0.00B [00:00, ?B/s]"
      ]
     },
     "metadata": {},
     "output_type": "display_data"
    },
    {
     "data": {
      "application/vnd.jupyter.widget-view+json": {
       "model_id": "0dee7d87f5174da494b770a75d28f599",
       "version_major": 2,
       "version_minor": 0
      },
      "text/plain": [
       "tokenizer.json: 0.00B [00:00, ?B/s]"
      ]
     },
     "metadata": {},
     "output_type": "display_data"
    },
    {
     "data": {
      "application/vnd.jupyter.widget-view+json": {
       "model_id": "7931f7454f7b493287f57c4737486f95",
       "version_major": 2,
       "version_minor": 0
      },
      "text/plain": [
       "special_tokens_map.json:   0%|          | 0.00/112 [00:00<?, ?B/s]"
      ]
     },
     "metadata": {},
     "output_type": "display_data"
    },
    {
     "data": {
      "application/vnd.jupyter.widget-view+json": {
       "model_id": "0a92184c9b464625906fce82ef3b9926",
       "version_major": 2,
       "version_minor": 0
      },
      "text/plain": [
       "config.json:   0%|          | 0.00/190 [00:00<?, ?B/s]"
      ]
     },
     "metadata": {},
     "output_type": "display_data"
    },
    {
     "name": "stdout",
     "output_type": "stream",
     "text": [
      "SBERT Similarity Score: 0.7749\n"
     ]
    }
   ],
   "source": [
    "cv = \"\"\"\n",
    "Experienced Data Scientist with over 5 years in the tech industry. Proficient in Python, SQL, and R.\n",
    "Skilled in data wrangling, exploratory data analysis, and machine learning model deployment using scikit-learn, TensorFlow, and PyTorch.\n",
    "Led multiple end-to-end ML projects including churn prediction, fraud detection, and demand forecasting.\n",
    "Worked with cloud platforms like AWS and GCP, using S3, Lambda, BigQuery, and Cloud Functions.\n",
    "Developed APIs in Flask and FastAPI for serving models. Experience with Docker and Git.\n",
    "Strong collaboration with cross-functional teams in Agile environments.\n",
    "Master’s in Applied Data Science. Excellent communication and business understanding.\n",
    "\"\"\"\n",
    "\n",
    "jd = \"\"\"\n",
    "We are hiring a Data Scientist to join our advanced analytics team.\n",
    "The ideal candidate has experience building machine learning models and deploying them in production environments.\n",
    "Strong proficiency in Python and knowledge of data science libraries such as scikit-learn, pandas, NumPy, TensorFlow or PyTorch.\n",
    "Experience working with cloud technologies like AWS or GCP is a plus.\n",
    "Familiarity with model monitoring, version control (Git), and containerization tools (Docker) is required.\n",
    "You will be responsible for delivering insights, creating dashboards, and collaborating with engineering teams to scale ML pipelines.\n",
    "A Master’s degree in Data Science or related field is preferred.\n",
    "\"\"\"\n",
    "jd1 = \"\"\"\n",
    "We are looking for a Senior java developer with experience , skills in java , spring boot and angular\n",
    "\"\"\"\n",
    "\n",
    "\n",
    "\n",
    "score = compute_sbert_similarity(cv, jd)\n",
    "print(f\"SBERT Similarity Score: {score:.4f}\")\n"
   ]
  },
  {
   "cell_type": "code",
   "execution_count": null,
   "metadata": {
    "id": "qkpTAtsCLQ9T"
   },
   "outputs": [],
   "source": [
    "# section similarity\n",
    "import re\n",
    "from sentence_transformers import SentenceTransformer, util\n",
    "\n",
    "model = SentenceTransformer('all-MiniLM-L6-v2')\n",
    "\n",
    "def extract_section(text, section_name):\n",
    "    pattern = fr'{section_name}\\s*[:\\-]?\\s*(.*?)(?=\\n[A-Z][a-z]|$)'\n",
    "    match = re.search(pattern, text, re.DOTALL | re.IGNORECASE)\n",
    "    return match.group(1).strip() if match else ''\n",
    "\n",
    "def section_similarity(text1, text2):\n",
    "    if not text1 or not text2:\n",
    "        return 0.0\n",
    "    emb1 = model.encode(text1, convert_to_tensor=True)\n",
    "    emb2 = model.encode(text2, convert_to_tensor=True)\n",
    "    return float(util.pytorch_cos_sim(emb1, emb2)[0][0])\n",
    "\n",
    "def extract_title(text):\n",
    "    first_line = text.strip().split('\\n')[0]\n",
    "    return first_line.strip()\n",
    "\n",
    "def title_similarity(cv_text, jd_text):\n",
    "    cv_title = extract_title(cv_text)\n",
    "    jd_title = extract_title(jd_text)\n",
    "    return section_similarity(cv_title, jd_title)\n",
    "\n",
    "def match_all(cv_text, jd_text, weights=None):\n",
    "    if weights is None:\n",
    "        weights = {'skills': 0.4, 'experience': 0.3, 'title': 0.3}\n",
    "\n",
    "    cv_skills = extract_section(cv_text, 'skills')\n",
    "    jd_skills = extract_section(jd_text, 'skills')\n",
    "\n",
    "    cv_exp = extract_section(cv_text, 'experience')\n",
    "    jd_exp = extract_section(jd_text, 'experience')\n",
    "\n",
    "    skill_sim = section_similarity(cv_skills, jd_skills)\n",
    "    exp_sim = section_similarity(cv_exp, jd_exp)\n",
    "    title_sim = title_similarity(cv_text, jd_text)\n",
    "\n",
    "    final_score = (\n",
    "        weights['skills'] * skill_sim +\n",
    "        weights['experience'] * exp_sim +\n",
    "        weights['title'] * title_sim\n",
    "    )\n",
    "\n",
    "    return {\n",
    "        'MatchingScore': round(final_score, 3),\n",
    "        'SkillSimilarity': round(skill_sim, 3),\n",
    "        'ExperienceSimilarity': round(exp_sim, 3),\n",
    "        'TitleSimilarity': round(title_sim, 3)\n",
    "    }\n"
   ]
  },
  {
   "cell_type": "code",
   "execution_count": null,
   "metadata": {
    "colab": {
     "base_uri": "https://localhost:8080/"
    },
    "id": "Ft1vd3xQgHqd",
    "outputId": "1bd0601b-f02d-439d-b85e-83597820eefd"
   },
   "outputs": [
    {
     "name": "stdout",
     "output_type": "stream",
     "text": [
      "{'MatchingScore': 0.591, 'SkillSimilarity': 0.944, 'ExperienceSimilarity': 0.422, 'TitleSimilarity': 0.291}\n"
     ]
    }
   ],
   "source": [
    "cv = \"\"\"\n",
    "Senior Python Developer\n",
    "Skills: Python, Flask, AWS, TensorFlow, Docker\n",
    "Experience: 4 years of experience in machine learning and deploying models with Flask and Docker on AWS.\n",
    "\"\"\"\n",
    "\n",
    "jd = \"\"\"\n",
    "Machine Learning Engineer\n",
    "Skills: Python, TensorFlow, Docker, AWS\n",
    "Experience: At least 3 years experience in ML project development and deployment.\n",
    "\"\"\"\n",
    "\n",
    "print(match_all(cv, jd))\n"
   ]
  },
  {
   "cell_type": "code",
   "execution_count": null,
   "metadata": {
    "id": "0FXgiCZVi_zP"
   },
   "outputs": [],
   "source": [
    "import re\n",
    "from difflib import SequenceMatcher\n",
    "from sentence_transformers import SentenceTransformer, util\n",
    "\n",
    "# Load SBERT model\n",
    "model = SentenceTransformer(\"all-MiniLM-L6-v2\")\n",
    "\n",
    "# Updated title groups based on your dataset\n",
    "TITLE_GROUPS = {\n",
    "    \"Information Technology\": ['information-technology', 'it', 'software engineer', 'python developer', 'backend engineer'],\n",
    "    \"Business Development\": ['business-development', 'biz dev', 'growth manager', 'business strategist'],\n",
    "    \"Legal\": ['advocate', 'lawyer', 'legal advisor'],\n",
    "    \"Culinary\": ['chef', 'cook', 'head chef'],\n",
    "    \"Engineering\": ['engineering', 'mechanical engineer', 'civil engineer', 'electrical engineer'],\n",
    "    \"Accounting & Finance\": ['accountant', 'finance', 'financial analyst', 'auditor'],\n",
    "    \"Fitness & Health\": ['fitness', 'healthcare', 'personal trainer', 'physiotherapist'],\n",
    "    \"Aviation\": ['aviation', 'pilot', 'air traffic controller'],\n",
    "    \"Sales\": ['sales', 'salesperson', 'sales executive'],\n",
    "    \"Banking\": ['banking', 'bank officer', 'loan officer'],\n",
    "    \"Consulting\": ['consultant', 'strategy consultant', 'business consultant'],\n",
    "    \"Construction\": ['construction', 'builder', 'site engineer'],\n",
    "    \"Public Relations\": ['public-relations', 'pr manager', 'communications officer'],\n",
    "    \"Human Resources\": ['hr', 'recruiter', 'talent acquisition'],\n",
    "    \"Design\": ['designer', 'graphic designer', 'ux', 'ui'],\n",
    "    \"Arts & Media\": ['arts', 'digital-media', 'media specialist', 'visual artist'],\n",
    "    \"Education\": ['teacher', 'educator', 'professor', 'trainer'],\n",
    "    \"Apparel\": ['apparel', 'fashion designer', 'clothing'],\n",
    "    \"Agriculture\": ['agriculture', 'farmer', 'agronomist'],\n",
    "    \"Automobile\": ['automobile', 'car technician', 'auto engineer'],\n",
    "    \"BPO\": ['bpo', 'call center agent', 'customer support'],\n",
    "}\n",
    "\n",
    "def normalize_title(raw_title: str) -> str:\n",
    "    raw_title = raw_title.lower().strip()\n",
    "    for group, aliases in TITLE_GROUPS.items():\n",
    "        for alias in aliases:\n",
    "            if SequenceMatcher(None, raw_title, alias).ratio() >= 0.75:\n",
    "                return group\n",
    "    return raw_title.title()\n",
    "\n",
    "def title_similarity(cv_text: str, jd_text: str) -> float:\n",
    "    cv_title = cv_text.strip().split('\\n')[0]\n",
    "    jd_title = jd_text.strip().split('\\n')[0]\n",
    "    norm_cv = normalize_title(cv_title)\n",
    "    norm_jd = normalize_title(jd_title)\n",
    "    emb_cv = model.encode(norm_cv, convert_to_tensor=True)\n",
    "    emb_jd = model.encode(norm_jd, convert_to_tensor=True)\n",
    "    return float(util.pytorch_cos_sim(emb_cv, emb_jd)[0][0])\n",
    "\n",
    "def extract_section(text: str, name: str) -> str:\n",
    "    pattern = fr\"{name}\\s*[:\\-]?\\s*(.*?)(?=\\n[A-Z][a-z]|$)\"\n",
    "    match = re.search(pattern, text, re.IGNORECASE | re.DOTALL)\n",
    "    return match.group(1).strip() if match else \"\"\n",
    "\n",
    "def extract_experience_sentences(section: str) -> str:\n",
    "    keywords = (\"experience\", \"worked\", \"developed\", \"led\",\n",
    "                \"managed\", \"built\", \"deployed\", \"implemented\")\n",
    "    sentences = re.split(r\"[.\\n]\", section)\n",
    "    return \" \".join(\n",
    "        s.strip() for s in sentences if any(k in s.lower() for k in keywords)\n",
    "    )\n",
    "\n",
    "def extract_years(section: str) -> int:\n",
    "    years = re.findall(r\"(\\d+)\\s*(?:\\+)?\\s*(?:years?|yrs?)\", section.lower())\n",
    "    return max([int(y) for y in years], default=0)\n",
    "\n",
    "def sbert_similarity(a: str, b: str) -> float:\n",
    "    if not a or not b:\n",
    "        return 0.0\n",
    "    emb_a = model.encode(a, convert_to_tensor=True)\n",
    "    emb_b = model.encode(b, convert_to_tensor=True)\n",
    "    return float(util.pytorch_cos_sim(emb_a, emb_b)[0][0])\n",
    "\n",
    "def match_cv_to_jd(cv_text: str, jd_text: str, weights=None) -> dict:\n",
    "    if weights is None:\n",
    "        weights = {\"skills\": 0.4, \"experience\": 0.3, \"title\": 0.3}\n",
    "\n",
    "    # Skills\n",
    "    cv_skills = extract_section(cv_text, \"Skills\")\n",
    "    jd_skills = extract_section(jd_text, \"Skills\")\n",
    "    skill_sim = sbert_similarity(cv_skills, jd_skills)\n",
    "\n",
    "    # Experience\n",
    "    cv_exp = extract_section(cv_text, \"Experience\")\n",
    "    jd_exp = extract_section(jd_text, \"Experience\")\n",
    "    cv_exp_sent = extract_experience_sentences(cv_exp)\n",
    "    jd_exp_sent = extract_experience_sentences(jd_exp)\n",
    "    exp_sim = sbert_similarity(cv_exp_sent, jd_exp_sent)\n",
    "    cv_years = extract_years(cv_exp)\n",
    "    jd_years = extract_years(jd_exp)\n",
    "    exp_gap = max(jd_years - cv_years, 0)\n",
    "\n",
    "    # Title\n",
    "    title_sim = title_similarity(cv_text, jd_text)\n",
    "\n",
    "    # Final weighted score\n",
    "    final_score = (\n",
    "        weights[\"skills\"] * skill_sim +\n",
    "        weights[\"experience\"] * exp_sim +\n",
    "        weights[\"title\"] * title_sim\n",
    "    )\n",
    "\n",
    "    return {\n",
    "        \"MatchingScore\": round(final_score, 3),\n",
    "        \"SkillSimilarity\": round(skill_sim, 3),\n",
    "        \"ExperienceSimilarity\": round(exp_sim, 3),\n",
    "        \"TitleSimilarity\": round(title_sim, 3),\n",
    "        \"CV_Years\": cv_years,\n",
    "        \"JD_Years\": jd_years,\n",
    "        \"ExperienceGap\": exp_gap\n",
    "    }\n",
    "\n"
   ]
  },
  {
   "cell_type": "code",
   "execution_count": null,
   "metadata": {
    "colab": {
     "base_uri": "https://localhost:8080/"
    },
    "id": "nXw_0oMCjB4j",
    "outputId": "814470fd-c961-4369-cabc-8db81bf730c2"
   },
   "outputs": [
    {
     "name": "stdout",
     "output_type": "stream",
     "text": [
      "{'MatchingScore': 0.66, 'SkillSimilarity': 0.7, 'ExperienceSimilarity': 0.653, 'TitleSimilarity': 0.612, 'CV_Years': 3, 'JD_Years': 5, 'ExperienceGap': 2}\n"
     ]
    }
   ],
   "source": [
    "    cv = \"\"\"\n",
    "    Senior Accountant\n",
    "    Skills: Financial reporting, SAP, Excel, Tax Compliance\n",
    "    Experience: Over 3 years of experience managing accounts, preparing audits and budgets. Worked with SAP for tax reporting.\n",
    "    \"\"\"\n",
    "\n",
    "    jd = \"\"\"\n",
    "    Accountant\n",
    "    Skills: Accounting, Tax Reporting, Financial Audits\n",
    "    Experience: Candidate must have 5+ years experience in financial statements, budget preparation and using SAP.\n",
    "    \"\"\"\n",
    "\n",
    "    print(match_cv_to_jd(cv, jd))"
   ]
  },
  {
   "cell_type": "code",
   "execution_count": null,
   "metadata": {
    "id": "4eB0sQufkEvy"
   },
   "outputs": [],
   "source": [
    "import re\n",
    "from difflib import SequenceMatcher\n",
    "from sentence_transformers import SentenceTransformer, util\n",
    "import math\n",
    "\n",
    "model = SentenceTransformer(\"all-MiniLM-L6-v2\")\n",
    "\n",
    "TITLE_GROUPS = {\n",
    "    \"Information Technology\": ['information-technology', 'it', 'software engineer', 'python developer', 'backend engineer'],\n",
    "    \"Business Development\": ['business-development', 'biz dev', 'growth manager', 'business strategist'],\n",
    "    \"Legal\": ['advocate', 'lawyer', 'legal advisor'],\n",
    "    \"Culinary\": ['chef', 'cook', 'head chef'],\n",
    "    \"Engineering\": ['engineering', 'mechanical engineer', 'civil engineer', 'electrical engineer'],\n",
    "    \"Accounting & Finance\": ['accountant', 'finance', 'financial analyst', 'auditor'],\n",
    "    \"Fitness & Health\": ['fitness', 'healthcare', 'personal trainer', 'physiotherapist'],\n",
    "    \"Aviation\": ['aviation', 'pilot', 'air traffic controller'],\n",
    "    \"Sales\": ['sales', 'salesperson', 'sales executive'],\n",
    "    \"Banking\": ['banking', 'bank officer', 'loan officer'],\n",
    "    \"Consulting\": ['consultant', 'strategy consultant', 'business consultant'],\n",
    "    \"Construction\": ['construction', 'builder', 'site engineer'],\n",
    "    \"Public Relations\": ['public-relations', 'pr manager', 'communications officer'],\n",
    "    \"Human Resources\": ['hr', 'recruiter', 'talent acquisition'],\n",
    "    \"Design\": ['designer', 'graphic designer', 'ux', 'ui'],\n",
    "    \"Arts & Media\": ['arts', 'digital-media', 'media specialist', 'visual artist'],\n",
    "    \"Education\": ['teacher', 'educator', 'professor', 'trainer'],\n",
    "    \"Apparel\": ['apparel', 'fashion designer', 'clothing'],\n",
    "    \"Agriculture\": ['agriculture', 'farmer', 'agronomist'],\n",
    "    \"Automobile\": ['automobile', 'car technician', 'auto engineer'],\n",
    "    \"BPO\": ['bpo', 'call center agent', 'customer support'],\n",
    "}\n",
    "\n",
    "def normalize_title(raw_title: str) -> str:\n",
    "    raw_title = raw_title.lower().strip()\n",
    "    for group, aliases in TITLE_GROUPS.items():\n",
    "        for alias in aliases:\n",
    "            if SequenceMatcher(None, raw_title, alias).ratio() >= 0.75:\n",
    "                return group\n",
    "    return raw_title.title()\n",
    "\n",
    "def title_similarity(cv_text: str, jd_text: str) -> float:\n",
    "    cv_title = cv_text.strip().split('\\n')[0]\n",
    "    jd_title = jd_text.strip().split('\\n')[0]\n",
    "    norm_cv = normalize_title(cv_title)\n",
    "    norm_jd = normalize_title(jd_title)\n",
    "    emb_cv = model.encode(norm_cv, convert_to_tensor=True)\n",
    "    emb_jd = model.encode(norm_jd, convert_to_tensor=True)\n",
    "    return float(util.pytorch_cos_sim(emb_cv, emb_jd)[0][0])\n",
    "\n",
    "def extract_section(text: str, name: str) -> str:\n",
    "    pattern = fr\"{name}\\s*[:\\-]?\\s*(.*?)(?=\\n[A-Z][a-z]|$)\"\n",
    "    match = re.search(pattern, text, re.IGNORECASE | re.DOTALL)\n",
    "    return match.group(1).strip() if match else \"\"\n",
    "\n",
    "def extract_experience_sentences(section: str) -> str:\n",
    "    keywords = (\"experience\", \"worked\", \"developed\", \"led\",\n",
    "                \"managed\", \"built\", \"deployed\", \"implemented\")\n",
    "    sentences = re.split(r\"[.\\n]\", section)\n",
    "    return \" \".join(\n",
    "        s.strip() for s in sentences if any(k in s.lower() for k in keywords)\n",
    "    )\n",
    "\n",
    "def extract_years(section: str) -> int:\n",
    "    years = re.findall(r\"(\\d+)\\s*(?:\\+)?\\s*(?:years?|yrs?)\", section.lower())\n",
    "    return max([int(y) for y in years], default=0)\n",
    "\n",
    "def sbert_similarity(a: str, b: str) -> float:\n",
    "    if not a or not b:\n",
    "        return 0.0\n",
    "    emb_a = model.encode(a, convert_to_tensor=True)\n",
    "    emb_b = model.encode(b, convert_to_tensor=True)\n",
    "    return float(util.pytorch_cos_sim(emb_a, emb_b)[0][0])\n",
    "\n",
    "def compute_sbert_similarity(cv_text: str, jd_text: str) -> float:\n",
    "    return sbert_similarity(cv_text, jd_text)\n",
    "\n",
    "def penalize_exp_gap(score: float, exp_gap: int) -> float:\n",
    "    # Penalization factor (exponential decay)\n",
    "    penalty = math.exp(-0.2 * exp_gap)\n",
    "    return score * penalty\n",
    "\n",
    "def match_cv_to_jd(cv_text: str, jd_text: str) -> dict:\n",
    "    # Weights according to your request\n",
    "    weights = {\n",
    "        \"full_text\": 0.4,\n",
    "        \"skills\": 0.15,\n",
    "        \"experience\": 0.15,\n",
    "        \"title\": 0.3\n",
    "    }\n",
    "\n",
    "    cv_skills = extract_section(cv_text, \"Skills\")\n",
    "    jd_skills = extract_section(jd_text, \"Skills\")\n",
    "    skill_sim = sbert_similarity(cv_skills, jd_skills)\n",
    "\n",
    "    cv_exp = extract_section(cv_text, \"Experience\")\n",
    "    jd_exp = extract_section(jd_text, \"Experience\")\n",
    "    cv_exp_sent = extract_experience_sentences(cv_exp)\n",
    "    jd_exp_sent = extract_experience_sentences(jd_exp)\n",
    "    exp_sim = sbert_similarity(cv_exp_sent, jd_exp_sent)\n",
    "\n",
    "    cv_years = extract_years(cv_exp)\n",
    "    jd_years = extract_years(jd_exp)\n",
    "    exp_gap = max(jd_years - cv_years, 0)\n",
    "\n",
    "    title_sim = title_similarity(cv_text, jd_text)\n",
    "\n",
    "    full_text_sim = compute_sbert_similarity(cv_text, jd_text)\n",
    "\n",
    "    raw_score = (\n",
    "        weights[\"full_text\"] * full_text_sim +\n",
    "        weights[\"skills\"] * skill_sim +\n",
    "        weights[\"experience\"] * exp_sim +\n",
    "        weights[\"title\"] * title_sim\n",
    "    )\n",
    "\n",
    "    final_score = penalize_exp_gap(raw_score, exp_gap)\n",
    "\n",
    "    return {\n",
    "        \"MatchingScoreRaw\": round(raw_score, 3),\n",
    "        \"MatchingScorePenalized\": round(final_score, 3),\n",
    "        \"FullTextSimilarity\": round(full_text_sim, 3),\n",
    "        \"SkillSimilarity\": round(skill_sim, 3),\n",
    "        \"ExperienceSimilarity\": round(exp_sim, 3),\n",
    "        \"TitleSimilarity\": round(title_sim, 3),\n",
    "        \"CV_Years\": cv_years,\n",
    "        \"JD_Years\": jd_years,\n",
    "        \"ExperienceGap\": exp_gap\n",
    "    }\n",
    "\n"
   ]
  },
  {
   "cell_type": "code",
   "execution_count": null,
   "metadata": {
    "colab": {
     "base_uri": "https://localhost:8080/"
    },
    "id": "UhfL-ryKkHDp",
    "outputId": "f9cbf916-58cc-4de2-cc05-98090eaf04fd"
   },
   "outputs": [
    {
     "name": "stdout",
     "output_type": "stream",
     "text": [
      "{'MatchingScoreRaw': 0.718, 'MatchingScorePenalized': 0.481, 'FullTextSimilarity': 0.827, 'SkillSimilarity': 0.7, 'ExperienceSimilarity': 0.653, 'TitleSimilarity': 0.612, 'CV_Years': 3, 'JD_Years': 5, 'ExperienceGap': 2}\n"
     ]
    }
   ],
   "source": [
    "    cv = \"\"\"\n",
    "    Senior Accountant\n",
    "    Skills: Financial reporting, SAP, Excel, Tax Compliance\n",
    "    Experience: Over 3 years of experience managing accounts, preparing audits and budgets. Worked with SAP for tax reporting.\n",
    "    \"\"\"\n",
    "\n",
    "    jd = \"\"\"\n",
    "    Accountant\n",
    "    Skills: Accounting, Tax Reporting, Financial Audits\n",
    "    Experience: Candidate must have 5+ years experience in financial statements, budget preparation and using SAP.\n",
    "    \"\"\"\n",
    "\n",
    "    print(match_cv_to_jd(cv, jd))\n"
   ]
  },
  {
   "cell_type": "code",
   "execution_count": null,
   "metadata": {
    "colab": {
     "base_uri": "https://localhost:8080/"
    },
    "id": "bO2OtazTk1zk",
    "outputId": "e9229f80-20bd-4066-b908-0bf566ec9a27"
   },
   "outputs": [
    {
     "name": "stdout",
     "output_type": "stream",
     "text": [
      "Requirement already satisfied: streamlit in /usr/local/lib/python3.11/dist-packages (1.46.1)\n",
      "Requirement already satisfied: altair<6,>=4.0 in /usr/local/lib/python3.11/dist-packages (from streamlit) (5.5.0)\n",
      "Requirement already satisfied: blinker<2,>=1.5.0 in /usr/local/lib/python3.11/dist-packages (from streamlit) (1.9.0)\n",
      "Requirement already satisfied: cachetools<7,>=4.0 in /usr/local/lib/python3.11/dist-packages (from streamlit) (5.5.2)\n",
      "Requirement already satisfied: click<9,>=7.0 in /usr/local/lib/python3.11/dist-packages (from streamlit) (8.2.1)\n",
      "Requirement already satisfied: numpy<3,>=1.23 in /usr/local/lib/python3.11/dist-packages (from streamlit) (2.0.2)\n",
      "Requirement already satisfied: packaging<26,>=20 in /usr/local/lib/python3.11/dist-packages (from streamlit) (24.2)\n",
      "Requirement already satisfied: pandas<3,>=1.4.0 in /usr/local/lib/python3.11/dist-packages (from streamlit) (2.2.2)\n",
      "Requirement already satisfied: pillow<12,>=7.1.0 in /usr/local/lib/python3.11/dist-packages (from streamlit) (11.2.1)\n",
      "Requirement already satisfied: protobuf<7,>=3.20 in /usr/local/lib/python3.11/dist-packages (from streamlit) (5.29.5)\n",
      "Requirement already satisfied: pyarrow>=7.0 in /usr/local/lib/python3.11/dist-packages (from streamlit) (18.1.0)\n",
      "Requirement already satisfied: requests<3,>=2.27 in /usr/local/lib/python3.11/dist-packages (from streamlit) (2.32.3)\n",
      "Requirement already satisfied: tenacity<10,>=8.1.0 in /usr/local/lib/python3.11/dist-packages (from streamlit) (8.5.0)\n",
      "Requirement already satisfied: toml<2,>=0.10.1 in /usr/local/lib/python3.11/dist-packages (from streamlit) (0.10.2)\n",
      "Requirement already satisfied: typing-extensions<5,>=4.4.0 in /usr/local/lib/python3.11/dist-packages (from streamlit) (4.14.0)\n",
      "Requirement already satisfied: watchdog<7,>=2.1.5 in /usr/local/lib/python3.11/dist-packages (from streamlit) (6.0.0)\n",
      "Requirement already satisfied: gitpython!=3.1.19,<4,>=3.0.7 in /usr/local/lib/python3.11/dist-packages (from streamlit) (3.1.44)\n",
      "Requirement already satisfied: pydeck<1,>=0.8.0b4 in /usr/local/lib/python3.11/dist-packages (from streamlit) (0.9.1)\n",
      "Requirement already satisfied: tornado!=6.5.0,<7,>=6.0.3 in /usr/local/lib/python3.11/dist-packages (from streamlit) (6.4.2)\n",
      "Requirement already satisfied: jinja2 in /usr/local/lib/python3.11/dist-packages (from altair<6,>=4.0->streamlit) (3.1.6)\n",
      "Requirement already satisfied: jsonschema>=3.0 in /usr/local/lib/python3.11/dist-packages (from altair<6,>=4.0->streamlit) (4.24.0)\n",
      "Requirement already satisfied: narwhals>=1.14.2 in /usr/local/lib/python3.11/dist-packages (from altair<6,>=4.0->streamlit) (1.45.0)\n",
      "Requirement already satisfied: gitdb<5,>=4.0.1 in /usr/local/lib/python3.11/dist-packages (from gitpython!=3.1.19,<4,>=3.0.7->streamlit) (4.0.12)\n",
      "Requirement already satisfied: python-dateutil>=2.8.2 in /usr/local/lib/python3.11/dist-packages (from pandas<3,>=1.4.0->streamlit) (2.9.0.post0)\n",
      "Requirement already satisfied: pytz>=2020.1 in /usr/local/lib/python3.11/dist-packages (from pandas<3,>=1.4.0->streamlit) (2025.2)\n",
      "Requirement already satisfied: tzdata>=2022.7 in /usr/local/lib/python3.11/dist-packages (from pandas<3,>=1.4.0->streamlit) (2025.2)\n",
      "Requirement already satisfied: charset-normalizer<4,>=2 in /usr/local/lib/python3.11/dist-packages (from requests<3,>=2.27->streamlit) (3.4.2)\n",
      "Requirement already satisfied: idna<4,>=2.5 in /usr/local/lib/python3.11/dist-packages (from requests<3,>=2.27->streamlit) (3.10)\n",
      "Requirement already satisfied: urllib3<3,>=1.21.1 in /usr/local/lib/python3.11/dist-packages (from requests<3,>=2.27->streamlit) (2.4.0)\n",
      "Requirement already satisfied: certifi>=2017.4.17 in /usr/local/lib/python3.11/dist-packages (from requests<3,>=2.27->streamlit) (2025.6.15)\n",
      "Requirement already satisfied: smmap<6,>=3.0.1 in /usr/local/lib/python3.11/dist-packages (from gitdb<5,>=4.0.1->gitpython!=3.1.19,<4,>=3.0.7->streamlit) (5.0.2)\n",
      "Requirement already satisfied: MarkupSafe>=2.0 in /usr/local/lib/python3.11/dist-packages (from jinja2->altair<6,>=4.0->streamlit) (3.0.2)\n",
      "Requirement already satisfied: attrs>=22.2.0 in /usr/local/lib/python3.11/dist-packages (from jsonschema>=3.0->altair<6,>=4.0->streamlit) (25.3.0)\n",
      "Requirement already satisfied: jsonschema-specifications>=2023.03.6 in /usr/local/lib/python3.11/dist-packages (from jsonschema>=3.0->altair<6,>=4.0->streamlit) (2025.4.1)\n",
      "Requirement already satisfied: referencing>=0.28.4 in /usr/local/lib/python3.11/dist-packages (from jsonschema>=3.0->altair<6,>=4.0->streamlit) (0.36.2)\n",
      "Requirement already satisfied: rpds-py>=0.7.1 in /usr/local/lib/python3.11/dist-packages (from jsonschema>=3.0->altair<6,>=4.0->streamlit) (0.26.0)\n",
      "Requirement already satisfied: six>=1.5 in /usr/local/lib/python3.11/dist-packages (from python-dateutil>=2.8.2->pandas<3,>=1.4.0->streamlit) (1.17.0)\n"
     ]
    },
    {
     "name": "stderr",
     "output_type": "stream",
     "text": [
      "2025-07-07 19:45:45.655 Thread 'MainThread': missing ScriptRunContext! This warning can be ignored when running in bare mode.\n",
      "2025-07-07 19:45:45.656 Thread 'MainThread': missing ScriptRunContext! This warning can be ignored when running in bare mode.\n",
      "2025-07-07 19:45:45.658 Thread 'MainThread': missing ScriptRunContext! This warning can be ignored when running in bare mode.\n",
      "2025-07-07 19:45:45.660 Thread 'MainThread': missing ScriptRunContext! This warning can be ignored when running in bare mode.\n",
      "2025-07-07 19:45:45.664 Thread 'MainThread': missing ScriptRunContext! This warning can be ignored when running in bare mode.\n",
      "2025-07-07 19:45:45.665 Thread 'MainThread': missing ScriptRunContext! This warning can be ignored when running in bare mode.\n",
      "2025-07-07 19:45:45.666 Thread 'MainThread': missing ScriptRunContext! This warning can be ignored when running in bare mode.\n",
      "2025-07-07 19:45:45.667 Thread 'MainThread': missing ScriptRunContext! This warning can be ignored when running in bare mode.\n",
      "2025-07-07 19:45:45.668 Thread 'MainThread': missing ScriptRunContext! This warning can be ignored when running in bare mode.\n",
      "2025-07-07 19:45:45.670 Thread 'MainThread': missing ScriptRunContext! This warning can be ignored when running in bare mode.\n",
      "2025-07-07 19:45:45.671 Thread 'MainThread': missing ScriptRunContext! This warning can be ignored when running in bare mode.\n",
      "2025-07-07 19:45:45.671 Thread 'MainThread': missing ScriptRunContext! This warning can be ignored when running in bare mode.\n",
      "2025-07-07 19:45:45.673 Thread 'MainThread': missing ScriptRunContext! This warning can be ignored when running in bare mode.\n",
      "2025-07-07 19:45:45.674 Thread 'MainThread': missing ScriptRunContext! This warning can be ignored when running in bare mode.\n",
      "2025-07-07 19:45:45.675 Thread 'MainThread': missing ScriptRunContext! This warning can be ignored when running in bare mode.\n"
     ]
    }
   ],
   "source": [
    "!pip install streamlit\n",
    "import streamlit as st\n",
    "import pandas as pd\n",
    "import seaborn as sns\n",
    "import matplotlib.pyplot as plt\n",
    "\n",
    "# Supposons que match_cv_to_jd(cv_text, jd_text) est ta fonction de matching\n",
    "\n",
    "def batch_match(cvs, jds):\n",
    "    # cvs et jds sont des listes de strings\n",
    "    results = []\n",
    "    for i, cv in enumerate(cvs):\n",
    "        for j, jd in enumerate(jds):\n",
    "            scores = match_cv_to_jd(cv, jd)\n",
    "            results.append({\n",
    "                \"CV_Index\": i,\n",
    "                \"JD_Index\": j,\n",
    "                \"MatchingScorePenalized\": scores[\"MatchingScorePenalized\"] # Changed 'Score' to 'MatchingScorePenalized'\n",
    "            })\n",
    "    return pd.DataFrame(results)\n",
    "\n",
    "st.title(\"Batch CV - JD Matching\")\n",
    "\n",
    "uploaded_cv = st.file_uploader(\"Upload CSV with CV texts\", type=[\"csv\"])\n",
    "uploaded_jd = st.file_uploader(\"Upload CSV with Job Descriptions\", type=[\"csv\"])\n",
    "\n",
    "if uploaded_cv and uploaded_jd:\n",
    "    df_cv = pd.read_csv(uploaded_cv)\n",
    "    df_jd = pd.read_csv(uploaded_jd)\n",
    "\n",
    "    # Supposons que la colonne texte s'appelle 'text'\n",
    "    cvs = df_cv['text'].tolist()\n",
    "    jds = df_jd['text'].tolist()\n",
    "\n",
    "    df_scores = batch_match(cvs, jds)\n",
    "\n",
    "    st.subheader(\"Matching Scores Table\")\n",
    "    st.dataframe(df_scores)\n",
    "\n",
    "    # Pivot pour heatmap : CV en ligne, JD en colonne\n",
    "    heatmap_data = df_scores.pivot(index='CV_Index', columns='JD_Index', values='MatchingScorePenalized')\n",
    "\n",
    "    st.subheader(\"Matching Scores Heatmap\")\n",
    "    fig, ax = plt.subplots(figsize=(10, 6))\n",
    "    sns.heatmap(heatmap_data, annot=True, fmt=\".2f\", cmap=\"YlGnBu\", ax=ax)\n",
    "    st.pyplot(fig)"
   ]
  },
  {
   "cell_type": "code",
   "execution_count": null,
   "metadata": {
    "colab": {
     "base_uri": "https://localhost:8080/",
     "height": 651
    },
    "id": "QI3ovg8xlDEv",
    "outputId": "8f046d6f-f6f7-4b94-86dd-c6f7d01a2b1b"
   },
   "outputs": [
    {
     "name": "stderr",
     "output_type": "stream",
     "text": [
      "/tmp/ipython-input-29-3959856333.py:50: FutureWarning: \n",
      "\n",
      "Passing `palette` without assigning `hue` is deprecated and will be removed in v0.14.0. Assign the `x` variable to `hue` and set `legend=False` for the same effect.\n",
      "\n",
      "  sns.barplot(x='CV_Index', y='MatchingScorePenalized', data=best_matches, palette=\"viridis\")\n"
     ]
    },
    {
     "data": {
      "image/png": "[encoded data removed]",
      "text/plain": [
       "<Figure size 1000x600 with 1 Axes>"
      ]
     },
     "metadata": {},
     "output_type": "display_data"
    }
   ],
   "source": [
    "# --- TEST DATA ---\n",
    "\n",
    "cvs = [\n",
    "    \"\"\"Senior Accountant\n",
    "Skills: Financial reporting, SAP, Excel, Tax Compliance\n",
    "Experience: Over 3 years of experience managing accounts, preparing audits and budgets. Worked with SAP for tax reporting.\"\"\",\n",
    "    \"\"\"Data Scientist\n",
    "Skills: Python, SQL, Machine Learning, TensorFlow, PyTorch\n",
    "Experience: 5+ years developing machine learning models and data pipelines in cloud environments.\"\"\",\n",
    "    \"\"\"Java Developer\n",
    "Skills: Java, Spring Boot, Angular\n",
    "Experience: 4 years experience in enterprise web applications and microservices.\"\"\"\n",
    "]\n",
    "\n",
    "jds = [\n",
    "    \"\"\"Accountant\n",
    "Skills: Accounting, Tax Reporting, Financial Audits\n",
    "Experience: Candidate must have 5+ years experience in financial statements, budget preparation and using SAP.\"\"\",\n",
    "    \"\"\"Senior Java Developer\n",
    "Skills: Java, Spring Boot, Angular, Microservices\n",
    "Experience: Minimum 5 years experience in Java development, especially with Spring Boot.\"\"\"\n",
    "]\n",
    "import matplotlib.pyplot as plt\n",
    "import seaborn as sns\n",
    "import pandas as pd\n",
    "\n",
    "# Calculate scores for the test data\n",
    "# Using the batch_match function from cell bO2OtazTk1zk\n",
    "# Assuming batch_match function and match_cv_to_jd are defined in previous cells\n",
    "def batch_match(cvs, jds):\n",
    "    # cvs et jds sont des listes de strings\n",
    "    results = []\n",
    "    for i, cv in enumerate(cvs):\n",
    "        for j, jd in enumerate(jds):\n",
    "            scores = match_cv_to_jd(cv, jd)\n",
    "            results.append({\n",
    "                \"CV_Index\": i,\n",
    "                \"JD_Index\": j,\n",
    "                \"MatchingScorePenalized\": scores[\"MatchingScorePenalized\"]\n",
    "            })\n",
    "    return pd.DataFrame(results)\n",
    "\n",
    "# Create df_scores using the test data\n",
    "df_scores = batch_match(cvs, jds)\n",
    "\n",
    "# Calculate the best match for each CV\n",
    "best_matches = df_scores.loc[df_scores.groupby('CV_Index')['MatchingScorePenalized'].idxmax()]\n",
    "\n",
    "plt.figure(figsize=(10, 6))\n",
    "sns.barplot(x='CV_Index', y='MatchingScorePenalized', data=best_matches, palette=\"viridis\")\n",
    "\n",
    "# Add the annotation of the corresponding JD on each bar\n",
    "for idx, row in best_matches.iterrows():\n",
    "    plt.text(row['CV_Index'], row['MatchingScorePenalized'] + 0.02, f\"JD {int(row['JD_Index'])}\",\n",
    "             ha='center', va='bottom', fontsize=10, color='black')\n",
    "\n",
    "plt.title(\"Best Job Description Match Score per CV\")\n",
    "plt.xlabel(\"CV Index\")\n",
    "plt.ylabel(\"Matching Score (Penalized)\")\n",
    "plt.ylim(0, 1)\n",
    "plt.show()"
   ]
  }
 ],
 "metadata": {
  "colab": {
   "provenance": []
  },
  "kernelspec": {
   "display_name": "Python 3",
   "name": "python3"
  },
  "language_info": {
   "name": "python"
  }
 },
 "nbformat": 4,
 "nbformat_minor": 0
}
